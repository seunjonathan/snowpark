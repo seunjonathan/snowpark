{
 "cells": [
  {
   "cell_type": "code",
   "execution_count": 2,
   "metadata": {},
   "outputs": [
    {
     "name": "stderr",
     "output_type": "stream",
     "text": [
      "UserWarning: Bad owner or permissions on C:\\Users\\seunj\\.snowflake\\config.toml\n",
      "UserWarning: Bad owner or permissions on C:\\Users\\seunj\\.snowflake\\connections.toml\n"
     ]
    }
   ],
   "source": [
    "import modin.pandas as pd\n",
    "import snowflake.snowpark.modin.plugin\n",
    "import numpy as np\n",
    "\n",
    "from snowflake.snowpark import Session\n",
    "import snowflake.snowpark.functions as F\n",
    "\n",
    "def initiateSession():\n",
    "    connection_parameters = {\n",
    "        \"account\": \"mszvisn-web31075\",\n",
    "        \"user\": \"jenkins_srv\",\n",
    "        \"password\": \"Jenkins123\",\n",
    "        \"role\": \"accountadmin\",\n",
    "        \"warehouse\": \"compute_wh\",\n",
    "        \"database\":\"snowpark_db\",\n",
    "        \"schema\":\"cat_bronze\"\n",
    "    }\n",
    "    session = Session.builder.configs(connection_parameters).create()\n",
    "    return session\n",
    "\n",
    "session = initiateSession()"
   ]
  },
  {
   "cell_type": "markdown",
   "metadata": {},
   "source": [
    "Transforming data from Bronze layer to Silver"
   ]
  },
  {
   "cell_type": "code",
   "execution_count": 4,
   "metadata": {},
   "outputs": [],
   "source": [
    "#Pandas on Snowflake can only use one session, explicitly assign one of the sessions to pandas\n",
    "pd.session = session"
   ]
  },
  {
   "cell_type": "code",
   "execution_count": 4,
   "metadata": {},
   "outputs": [],
   "source": [
    "data = pd.read_snowflake('TRACKLINK')"
   ]
  },
  {
   "cell_type": "code",
   "execution_count": 5,
   "metadata": {},
   "outputs": [
    {
     "name": "stdout",
     "output_type": "stream",
     "text": [
      "This dataset has 3226 rows, and 9 columns\n"
     ]
    }
   ],
   "source": [
    "data = data[(data['MODELNAME'] == 'D8T') | (data['MODELNAME'] == 'D6TXW')]\n",
    "print('This dataset has ' + str(data.shape[0]) + ' rows, and ' + str(data.shape[1]) + ' columns')"
   ]
  },
  {
   "cell_type": "code",
   "execution_count": 6,
   "metadata": {},
   "outputs": [
    {
     "data": {
      "text/plain": [
       "Index(['MODELNAME', 'SERIALNUMBER', 'INSPECTIONDATE', 'LINKALLOWABLEWEAR',\n",
       "       'BUSHINGALLOWABLEWEAR', 'TRACKLINKINSTALLEDDATE',\n",
       "       'TRACKLINKWORNVALUELEFT', 'TRACKLINKWORNVALUERIGHT',\n",
       "       'HOURMETERREADING'],\n",
       "      dtype='object')"
      ]
     },
     "execution_count": 6,
     "metadata": {},
     "output_type": "execute_result"
    }
   ],
   "source": [
    "data.columns"
   ]
  },
  {
   "cell_type": "code",
   "execution_count": null,
   "metadata": {},
   "outputs": [
    {
     "data": {
      "text/html": [
       "<div>\n",
       "<style scoped>\n",
       "    .dataframe tbody tr th:only-of-type {\n",
       "        vertical-align: middle;\n",
       "    }\n",
       "\n",
       "    .dataframe tbody tr th {\n",
       "        vertical-align: top;\n",
       "    }\n",
       "\n",
       "    .dataframe thead th {\n",
       "        text-align: right;\n",
       "    }\n",
       "</style>\n",
       "<table border=\"1\" class=\"dataframe\">\n",
       "  <thead>\n",
       "    <tr style=\"text-align: right;\">\n",
       "      <th></th>\n",
       "      <th>MODELNAME</th>\n",
       "      <th>SERIALNUMBER</th>\n",
       "      <th>INSPECTIONDATE</th>\n",
       "      <th>LINKALLOWABLEWEAR</th>\n",
       "      <th>BUSHINGALLOWABLEWEAR</th>\n",
       "      <th>TRACKLINKINSTALLEDDATE</th>\n",
       "      <th>TRACKLINKWORNVALUELEFT</th>\n",
       "      <th>TRACKLINKWORNVALUERIGHT</th>\n",
       "      <th>HOURMETERREADING</th>\n",
       "    </tr>\n",
       "  </thead>\n",
       "  <tbody>\n",
       "    <tr>\n",
       "      <th>0</th>\n",
       "      <td>D6TXW</td>\n",
       "      <td>SKL00358</td>\n",
       "      <td>5/5/2017</td>\n",
       "      <td>lesser</td>\n",
       "      <td>lesser</td>\n",
       "      <td>\"2011-05-09T00:00:00Z\"</td>\n",
       "      <td>20</td>\n",
       "      <td>18</td>\n",
       "      <td>0</td>\n",
       "    </tr>\n",
       "    <tr>\n",
       "      <th>1</th>\n",
       "      <td>D8T</td>\n",
       "      <td>0J8B02831</td>\n",
       "      <td>2017-08-24T00:00:00-0300</td>\n",
       "      <td>lesser</td>\n",
       "      <td>lesser</td>\n",
       "      <td>\"2011-10-21T00:00:00Z\"</td>\n",
       "      <td>38</td>\n",
       "      <td>28</td>\n",
       "      <td>0</td>\n",
       "    </tr>\n",
       "    <tr>\n",
       "      <th>2</th>\n",
       "      <td>963D</td>\n",
       "      <td>LCS01949</td>\n",
       "      <td>2017-06-05T18:27:36-0500</td>\n",
       "      <td>lesser</td>\n",
       "      <td>lesser</td>\n",
       "      <td>\"2014-06-03T00:00:00-0500\"</td>\n",
       "      <td>86</td>\n",
       "      <td>90</td>\n",
       "      <td>0</td>\n",
       "    </tr>\n",
       "    <tr>\n",
       "      <th>3</th>\n",
       "      <td>D9T</td>\n",
       "      <td>RJS01644</td>\n",
       "      <td>2017-02-22T00:00:00Z</td>\n",
       "      <td>greater</td>\n",
       "      <td>greater</td>\n",
       "      <td>\"2016-02-01T00:00:00+0800\"</td>\n",
       "      <td>78</td>\n",
       "      <td>69</td>\n",
       "      <td>0</td>\n",
       "    </tr>\n",
       "    <tr>\n",
       "      <th>4</th>\n",
       "      <td>D5KLGP</td>\n",
       "      <td>KY200858</td>\n",
       "      <td>2017-02-07T10:42:11-0500</td>\n",
       "      <td>greater</td>\n",
       "      <td>lesser</td>\n",
       "      <td>\"2016-04-29T00:00:00-0400\"</td>\n",
       "      <td>4</td>\n",
       "      <td>4</td>\n",
       "      <td>0</td>\n",
       "    </tr>\n",
       "    <tr>\n",
       "      <th>5</th>\n",
       "      <td>336DL</td>\n",
       "      <td>WRK00248</td>\n",
       "      <td>2/13/2018</td>\n",
       "      <td>greater</td>\n",
       "      <td>greater</td>\n",
       "      <td>\"\"</td>\n",
       "      <td>66</td>\n",
       "      <td>80</td>\n",
       "      <td>0</td>\n",
       "    </tr>\n",
       "  </tbody>\n",
       "</table>\n",
       "</div>"
      ],
      "text/plain": [
       "  MODELNAME SERIALNUMBER            INSPECTIONDATE LINKALLOWABLEWEAR  \\\n",
       "0     D6TXW     SKL00358                  5/5/2017            lesser   \n",
       "1       D8T    0J8B02831  2017-08-24T00:00:00-0300            lesser   \n",
       "2      963D     LCS01949  2017-06-05T18:27:36-0500            lesser   \n",
       "3       D9T     RJS01644      2017-02-22T00:00:00Z           greater   \n",
       "4    D5KLGP     KY200858  2017-02-07T10:42:11-0500           greater   \n",
       "5     336DL     WRK00248                 2/13/2018           greater   \n",
       "\n",
       "  BUSHINGALLOWABLEWEAR      TRACKLINKINSTALLEDDATE TRACKLINKWORNVALUELEFT  \\\n",
       "0               lesser      \"2011-05-09T00:00:00Z\"                     20   \n",
       "1               lesser      \"2011-10-21T00:00:00Z\"                     38   \n",
       "2               lesser  \"2014-06-03T00:00:00-0500\"                     86   \n",
       "3              greater  \"2016-02-01T00:00:00+0800\"                     78   \n",
       "4               lesser  \"2016-04-29T00:00:00-0400\"                      4   \n",
       "5              greater                          \"\"                     66   \n",
       "\n",
       "  TRACKLINKWORNVALUERIGHT  HOURMETERREADING  \n",
       "0                      18                 0  \n",
       "1                      28                 0  \n",
       "2                      90                 0  \n",
       "3                      69                 0  \n",
       "4                       4                 0  \n",
       "5                      80                 0  "
      ]
     },
     "execution_count": 7,
     "metadata": {},
     "output_type": "execute_result"
    }
   ],
   "source": [
    "data.head(6)"
   ]
  },
  {
   "cell_type": "code",
   "execution_count": 15,
   "metadata": {},
   "outputs": [
    {
     "name": "stderr",
     "output_type": "stream",
     "text": [
      "FutureWarning: Series.__getitem__ treating keys as positions is deprecated. In a future version, integer keys will always be treated as labels (consistent with DataFrame behavior). To access a value by position, use `ser.iloc[pos]`\n"
     ]
    }
   ],
   "source": [
    "#change all 0s to 1 in Hour meter reading.\n",
    "data['HOURMETERREADING']=data['HOURMETERREADING'].replace(0,1)\n",
    "data.drop(['LINKALLOWABLEWEAR','BUSHINGALLOWABLEWEAR',],axis=1,inplace=True)\n",
    "data['SERIALNUMBER'] = data['SERIALNUMBER'].str.upper()"
   ]
  },
  {
   "cell_type": "code",
   "execution_count": 6,
   "metadata": {},
   "outputs": [
    {
     "name": "stderr",
     "output_type": "stream",
     "text": [
      "`np.where` implementation may have mismatches with pandas:\n",
      "Returns a Snowpark pandas object instead of a np array.\n"
     ]
    }
   ],
   "source": [
    "conditions1 = data['TRACKLINKWORNVALUELEFT'].isin(['0', '>120', '<0', '<0%', '--', 'Low', 'High', '>120%']) | data['TRACKLINKWORNVALUELEFT'].isna()\n",
    "conditions2 = data['TRACKLINKWORNVALUERIGHT'].isin(['0', '>120', '<0', '<0%', '--', 'Low', 'High', '>120%']) | data['TRACKLINKWORNVALUERIGHT'].isna()\n",
    "\n",
    "\n",
    "# Clean the columns\n",
    "data['TRACKLINKWORNVALUELEFT'] = np.where(conditions1, 130, data['TRACKLINKWORNVALUELEFT'])\n",
    "data['TRACKLINKWORNVALUERIGHT'] = np.where(conditions2, 130, data['TRACKLINKWORNVALUERIGHT'])"
   ]
  },
  {
   "cell_type": "code",
   "execution_count": 7,
   "metadata": {},
   "outputs": [
    {
     "name": "stderr",
     "output_type": "stream",
     "text": [
      "Snowpark pandas API auto cast all integers to int64\n"
     ]
    }
   ],
   "source": [
    "data['TRACKLINKWORNVALUELEFT']=data['TRACKLINKWORNVALUELEFT'].astype(int)\n",
    "data['TRACKLINKWORNVALUERIGHT']=data['TRACKLINKWORNVALUERIGHT'].astype(int)"
   ]
  },
  {
   "cell_type": "code",
   "execution_count": 8,
   "metadata": {},
   "outputs": [
    {
     "name": "stderr",
     "output_type": "stream",
     "text": [
      "The current operation leads to materialization and can be slow if the data is large!\n"
     ]
    }
   ],
   "source": [
    "data = data.drop(data[(data['TRACKLINKWORNVALUELEFT'] == 130) & (data['TRACKLINKWORNVALUERIGHT'] == 130)].index)"
   ]
  },
  {
   "cell_type": "code",
   "execution_count": 9,
   "metadata": {},
   "outputs": [],
   "source": [
    "data_k = data"
   ]
  },
  {
   "cell_type": "code",
   "execution_count": 10,
   "metadata": {},
   "outputs": [
    {
     "name": "stderr",
     "output_type": "stream",
     "text": [
      "FutureWarning: Series.__getitem__ treating keys as positions is deprecated. In a future version, integer keys will always be treated as labels (consistent with DataFrame behavior). To access a value by position, use `ser.iloc[pos]`\n"
     ]
    }
   ],
   "source": [
    "#data = data.drop(data[data.tracklinkinstalleddate == '\"\"'].index)\n",
    "data['TRACKLINKINSTALLEDDATE'] = data['TRACKLINKINSTALLEDDATE'].str.replace('\"', '').replace('\"','').replace('','2003-07-21')"
   ]
  },
  {
   "cell_type": "code",
   "execution_count": 11,
   "metadata": {},
   "outputs": [
    {
     "name": "stderr",
     "output_type": "stream",
     "text": [
      "`to_datetime` implementation may have mismatches with pandas:\n",
      "Snowflake automatic format detection is used when a format is not provided.In this case Snowflake's auto format may yield different result values compared to pandas.See https://docs.snowflake.com/en/sql-reference/date-time-input-output#supported-formats-for-auto-detection for details.\n"
     ]
    }
   ],
   "source": [
    "#clean up date, put NaT for invalids, remove time component by converting to date, then convert back to datetime\n",
    "data['TRACKLINKINSTALLEDDATE'] = pd.to_datetime(data['TRACKLINKINSTALLEDDATE'],errors='coerce')\n",
    "data['TRACKLINKINSTALLEDDATE'] = data['TRACKLINKINSTALLEDDATE'].dt.date\n",
    "data['TRACKLINKINSTALLEDDATE'] = pd.to_datetime(data['TRACKLINKINSTALLEDDATE'])"
   ]
  },
  {
   "cell_type": "code",
   "execution_count": 12,
   "metadata": {},
   "outputs": [],
   "source": [
    "data['INSPECTIONDATE'] = pd.to_datetime(data['INSPECTIONDATE'],errors='coerce')\n",
    "data['INSPECTIONDATE'] = data['INSPECTIONDATE'].dt.date\n",
    "data['INSPECTIONDATE'] = pd.to_datetime(data['INSPECTIONDATE'])"
   ]
  },
  {
   "cell_type": "code",
   "execution_count": 13,
   "metadata": {},
   "outputs": [],
   "source": [
    "data['WORNOUTVALUEMAX']=data[[\"TRACKLINKWORNVALUELEFT\", \"TRACKLINKWORNVALUERIGHT\"]].max(axis=1)"
   ]
  },
  {
   "cell_type": "code",
   "execution_count": 20,
   "metadata": {},
   "outputs": [],
   "source": [
    "data['WORNOUTVALUEMAX']=data['WORNOUTVALUEMAX'].astype(int)"
   ]
  },
  {
   "cell_type": "code",
   "execution_count": 18,
   "metadata": {},
   "outputs": [
    {
     "data": {
      "text/html": [
       "<div>\n",
       "<style scoped>\n",
       "    .dataframe tbody tr th:only-of-type {\n",
       "        vertical-align: middle;\n",
       "    }\n",
       "\n",
       "    .dataframe tbody tr th {\n",
       "        vertical-align: top;\n",
       "    }\n",
       "\n",
       "    .dataframe thead th {\n",
       "        text-align: right;\n",
       "    }\n",
       "</style>\n",
       "<table border=\"1\" class=\"dataframe\">\n",
       "  <thead>\n",
       "    <tr style=\"text-align: right;\">\n",
       "      <th></th>\n",
       "      <th>MODELNAME</th>\n",
       "      <th>SERIALNUMBER</th>\n",
       "      <th>INSPECTIONDATE</th>\n",
       "      <th>TRACKLINKINSTALLEDDATE</th>\n",
       "      <th>TRACKLINKWORNVALUELEFT</th>\n",
       "      <th>TRACKLINKWORNVALUERIGHT</th>\n",
       "      <th>HOURMETERREADING</th>\n",
       "      <th>WORNOUTVALUEMAX</th>\n",
       "    </tr>\n",
       "  </thead>\n",
       "  <tbody>\n",
       "    <tr>\n",
       "      <th>38883</th>\n",
       "      <td>D8T</td>\n",
       "      <td>VIRADOR DE VAGAO 04</td>\n",
       "      <td>2018-05-16</td>\n",
       "      <td>2003-07-21</td>\n",
       "      <td>10</td>\n",
       "      <td>10</td>\n",
       "      <td>1</td>\n",
       "      <td>10</td>\n",
       "    </tr>\n",
       "    <tr>\n",
       "      <th>38903</th>\n",
       "      <td>D8T</td>\n",
       "      <td>VIRADOR DE VAG��O</td>\n",
       "      <td>2018-05-21</td>\n",
       "      <td>2003-07-21</td>\n",
       "      <td>3</td>\n",
       "      <td>130</td>\n",
       "      <td>1</td>\n",
       "      <td>130</td>\n",
       "    </tr>\n",
       "    <tr>\n",
       "      <th>38907</th>\n",
       "      <td>D8T</td>\n",
       "      <td>VIRADOR DE VAG��O VV01</td>\n",
       "      <td>2018-05-30</td>\n",
       "      <td>2003-07-21</td>\n",
       "      <td>22</td>\n",
       "      <td>18</td>\n",
       "      <td>1</td>\n",
       "      <td>22</td>\n",
       "    </tr>\n",
       "    <tr>\n",
       "      <th>38911</th>\n",
       "      <td>D8T</td>\n",
       "      <td>VIRADOR DE VAG��O VV01</td>\n",
       "      <td>2018-05-30</td>\n",
       "      <td>2003-07-21</td>\n",
       "      <td>8</td>\n",
       "      <td>4</td>\n",
       "      <td>1</td>\n",
       "      <td>8</td>\n",
       "    </tr>\n",
       "    <tr>\n",
       "      <th>38925</th>\n",
       "      <td>D8T</td>\n",
       "      <td>VIRADOR E VAG̥ES</td>\n",
       "      <td>2018-05-21</td>\n",
       "      <td>2003-07-21</td>\n",
       "      <td>24</td>\n",
       "      <td>130</td>\n",
       "      <td>1</td>\n",
       "      <td>130</td>\n",
       "    </tr>\n",
       "  </tbody>\n",
       "</table>\n",
       "</div>"
      ],
      "text/plain": [
       "      MODELNAME            SERIALNUMBER INSPECTIONDATE TRACKLINKINSTALLEDDATE  \\\n",
       "38883       D8T     VIRADOR DE VAGAO 04     2018-05-16             2003-07-21   \n",
       "38903       D8T       VIRADOR DE VAG��O     2018-05-21             2003-07-21   \n",
       "38907       D8T  VIRADOR DE VAG��O VV01     2018-05-30             2003-07-21   \n",
       "38911       D8T  VIRADOR DE VAG��O VV01     2018-05-30             2003-07-21   \n",
       "38925       D8T        VIRADOR E VAG̥ES     2018-05-21             2003-07-21   \n",
       "\n",
       "       TRACKLINKWORNVALUELEFT  TRACKLINKWORNVALUERIGHT  HOURMETERREADING  \\\n",
       "38883                      10                       10                 1   \n",
       "38903                       3                      130                 1   \n",
       "38907                      22                       18                 1   \n",
       "38911                       8                        4                 1   \n",
       "38925                      24                      130                 1   \n",
       "\n",
       "       WORNOUTVALUEMAX  \n",
       "38883               10  \n",
       "38903              130  \n",
       "38907               22  \n",
       "38911                8  \n",
       "38925              130  "
      ]
     },
     "execution_count": 18,
     "metadata": {},
     "output_type": "execute_result"
    }
   ],
   "source": [
    "data.tail()"
   ]
  },
  {
   "cell_type": "code",
   "execution_count": 21,
   "metadata": {},
   "outputs": [],
   "source": [
    "data.to_snowflake(\"snowpark_db.cat_silver.tracklink\", if_exists=\"replace\", index=False )"
   ]
  },
  {
   "cell_type": "code",
   "execution_count": 22,
   "metadata": {},
   "outputs": [],
   "source": [
    "#Grouped Data Frame\n",
    "data_grp = data.groupby(['SERIALNUMBER','INSPECTIONDATE'], as_index=False).WORNOUTVALUEMAX.max()\n",
    "#data1.drop('inspectiondate',axis=1,inplace=True)"
   ]
  },
  {
   "cell_type": "code",
   "execution_count": 23,
   "metadata": {},
   "outputs": [],
   "source": [
    "data_grp.to_snowflake(\"snowpark_db.cat_silver.tracklink_grp\", if_exists=\"replace\", index=False )"
   ]
  },
  {
   "cell_type": "code",
   "execution_count": null,
   "metadata": {},
   "outputs": [
    {
     "name": "stderr",
     "output_type": "stream",
     "text": [
      "FutureWarning: Series.__getitem__ treating keys as positions is deprecated. In a future version, integer keys will always be treated as labels (consistent with DataFrame behavior). To access a value by position, use `ser.iloc[pos]`\n"
     ]
    }
   ],
   "source": []
  }
 ],
 "metadata": {
  "kernelspec": {
   "display_name": "venv",
   "language": "python",
   "name": "python3"
  },
  "language_info": {
   "codemirror_mode": {
    "name": "ipython",
    "version": 3
   },
   "file_extension": ".py",
   "mimetype": "text/x-python",
   "name": "python",
   "nbconvert_exporter": "python",
   "pygments_lexer": "ipython3",
   "version": "3.10.3"
  }
 },
 "nbformat": 4,
 "nbformat_minor": 2
}
