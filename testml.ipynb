{
 "cells": [
  {
   "cell_type": "code",
   "execution_count": 16,
   "metadata": {},
   "outputs": [],
   "source": [
    "# Snowpark for Python\n",
    "import snowflake.snowpark.functions as F\n",
    "from snowflake.snowpark.types import DecimalType\n",
    "\n",
    "# Snowflake ML\n",
    "import snowflake.ml.modeling.preprocessing as snowml\n",
    "from snowflake.ml.modeling.pipeline import *\n",
    "from snowflake.ml.modeling.metrics.correlation import correlation"
   ]
  },
  {
   "cell_type": "code",
   "execution_count": 6,
   "metadata": {},
   "outputs": [],
   "source": [
    "# Data Science Libs\n",
    "import numpy as np\n",
    "import pandas as pd\n",
    "import matplotlib.pyplot as plt\n",
    "import seaborn as sns\n",
    "\n",
    "# Misc\n",
    "import json\n",
    "import joblib\n",
    "\n",
    "# warning suppresion\n",
    "import warnings; warnings.simplefilter('ignore')"
   ]
  },
  {
   "cell_type": "code",
   "execution_count": null,
   "metadata": {},
   "outputs": [],
   "source": [
    "from snowflake.snowpark import Session\n",
    "#import snowflake.snowpark\n",
    "\n",
    "def initiateSession():\n",
    "\n",
    "    with open('creds.json') as f:\n",
    "        connection_parameters = json.load(f)\n",
    "\n",
    "    session = Session.builder.configs(connection_parameters).create()\n",
    "    return session\n",
    "\n",
    "session = initiateSession()"
   ]
  },
  {
   "cell_type": "code",
   "execution_count": 8,
   "metadata": {},
   "outputs": [],
   "source": [
    "from snowflake.snowpark.types import DoubleType\n",
    "session.query_tag = {\"origin\":\"sf_sit-is\", \n",
    "                     \"name\":\"seunj\"}"
   ]
  },
  {
   "cell_type": "code",
   "execution_count": 9,
   "metadata": {},
   "outputs": [
    {
     "data": {
      "text/plain": [
       "<snowflake.snowpark.dataframe.DataFrame at 0x1d16238a980>"
      ]
     },
     "execution_count": 9,
     "metadata": {},
     "output_type": "execute_result"
    }
   ],
   "source": [
    "# Create a Snowpark DataFrame that is configured to load data from the CSV file\n",
    "# We can now infer schema from CSV files.\n",
    "diamonds_df = session.read.options({\"field_delimiter\": \",\",\n",
    "                                    \"field_optionally_enclosed_by\": '\"',\n",
    "                                    \"infer_schema\": True,\n",
    "                                    \"parse_header\": True}).csv(\"@DIAMONDS_ASSETS\")\n",
    "\n",
    "diamonds_df"
   ]
  },
  {
   "cell_type": "code",
   "execution_count": 12,
   "metadata": {},
   "outputs": [
    {
     "data": {
      "text/plain": [
       "['CARAT',\n",
       " 'CUT',\n",
       " 'COLOR',\n",
       " 'CLARITY',\n",
       " 'DEPTH',\n",
       " 'TABLE_PCT',\n",
       " 'PRICE',\n",
       " 'X',\n",
       " 'Y',\n",
       " 'Z']"
      ]
     },
     "execution_count": 12,
     "metadata": {},
     "output_type": "execute_result"
    }
   ],
   "source": [
    "# Force headers to uppercase\n",
    "for colname in diamonds_df.columns:\n",
    "    if colname == '\"table\"':\n",
    "       new_colname = \"TABLE_PCT\"\n",
    "    else:\n",
    "        new_colname = str.upper(colname)\n",
    "    diamonds_df = diamonds_df.with_column_renamed(colname, new_colname)\n",
    "\n",
    "diamonds_df.columns"
   ]
  },
  {
   "cell_type": "code",
   "execution_count": 13,
   "metadata": {},
   "outputs": [
    {
     "data": {
      "text/plain": [
       "[StructField('CARAT', DecimalType(3, 2), nullable=True),\n",
       " StructField('COLOR', StringType(), nullable=True),\n",
       " StructField('CLARITY', StringType(), nullable=True),\n",
       " StructField('DEPTH', DecimalType(3, 1), nullable=True),\n",
       " StructField('TABLE_PCT', DecimalType(3, 1), nullable=True),\n",
       " StructField('PRICE', LongType(), nullable=True),\n",
       " StructField('X', DecimalType(4, 2), nullable=True),\n",
       " StructField('Y', DecimalType(4, 2), nullable=True),\n",
       " StructField('Z', DecimalType(4, 2), nullable=True),\n",
       " StructField('CUT', StringType(), nullable=True)]"
      ]
     },
     "execution_count": 13,
     "metadata": {},
     "output_type": "execute_result"
    }
   ],
   "source": [
    "def fix_values(columnn):\n",
    "    return F.upper(F.regexp_replace(F.col(columnn), '[^a-zA-Z0-9]+', '_'))\n",
    "\n",
    "for col in [\"CUT\"]:\n",
    "    diamonds_df = diamonds_df.with_column(col, fix_values(col))\n",
    "\n",
    "list(diamonds_df.schema)"
   ]
  },
  {
   "cell_type": "code",
   "execution_count": 14,
   "metadata": {},
   "outputs": [],
   "source": [
    "for colname in [\"CARAT\", \"X\", \"Y\", \"Z\", \"DEPTH\", \"TABLE_PCT\"]:\n",
    "    diamonds_df = diamonds_df.with_column(colname, diamonds_df[colname].cast(DoubleType()))\n",
    "\n",
    "diamonds_df.write.mode('overwrite').save_as_table('diamonds')"
   ]
  },
  {
   "cell_type": "markdown",
   "metadata": {},
   "source": [
    "Let's use the MinMaxScaler to normalize the CARAT column."
   ]
  },
  {
   "cell_type": "code",
   "execution_count": 17,
   "metadata": {},
   "outputs": [
    {
     "ename": "ImportError",
     "evalue": "cannot import name 'MinMaxScaler' from 'snowflake.ml.modeling.preprocessing' (c:\\Users\\seunj\\source\\snowpark_things\\venv\\lib\\site-packages\\snowflake\\ml\\modeling\\preprocessing\\__init__.py)",
     "output_type": "error",
     "traceback": [
      "\u001b[1;31m---------------------------------------------------------------------------\u001b[0m",
      "\u001b[1;31mImportError\u001b[0m                               Traceback (most recent call last)",
      "Cell \u001b[1;32mIn[17], line 1\u001b[0m\n\u001b[1;32m----> 1\u001b[0m \u001b[38;5;28;01mfrom\u001b[39;00m\u001b[38;5;250m \u001b[39m\u001b[38;5;21;01msnowflake\u001b[39;00m\u001b[38;5;21;01m.\u001b[39;00m\u001b[38;5;21;01mml\u001b[39;00m\u001b[38;5;21;01m.\u001b[39;00m\u001b[38;5;21;01mmodeling\u001b[39;00m\u001b[38;5;21;01m.\u001b[39;00m\u001b[38;5;21;01mpreprocessing\u001b[39;00m\u001b[38;5;250m \u001b[39m\u001b[38;5;28;01mimport\u001b[39;00m MinMaxScaler, OrdinalEncoder\n",
      "\u001b[1;31mImportError\u001b[0m: cannot import name 'MinMaxScaler' from 'snowflake.ml.modeling.preprocessing' (c:\\Users\\seunj\\source\\snowpark_things\\venv\\lib\\site-packages\\snowflake\\ml\\modeling\\preprocessing\\__init__.py)"
     ]
    }
   ],
   "source": [
    "from snowflake.ml.modeling.preprocessing import MinMaxScaler, OrdinalEncoder"
   ]
  },
  {
   "cell_type": "code",
   "execution_count": null,
   "metadata": {},
   "outputs": [
    {
     "ename": "AttributeError",
     "evalue": "module 'snowflake.ml.modeling.preprocessing' has no attribute 'MinMaxScaler'",
     "output_type": "error",
     "traceback": [
      "\u001b[1;31m---------------------------------------------------------------------------\u001b[0m",
      "\u001b[1;31mAttributeError\u001b[0m                            Traceback (most recent call last)",
      "Cell \u001b[1;32mIn[15], line 2\u001b[0m\n\u001b[0;32m      1\u001b[0m \u001b[38;5;66;03m# Normalize the CARAT column\u001b[39;00m\n\u001b[1;32m----> 2\u001b[0m snowml_mms \u001b[38;5;241m=\u001b[39m \u001b[43msnowml\u001b[49m\u001b[38;5;241;43m.\u001b[39;49m\u001b[43mMinMaxScaler\u001b[49m(input_cols\u001b[38;5;241m=\u001b[39m[\u001b[38;5;124m\"\u001b[39m\u001b[38;5;124mCARAT\u001b[39m\u001b[38;5;124m\"\u001b[39m], output_cols\u001b[38;5;241m=\u001b[39m[\u001b[38;5;124m\"\u001b[39m\u001b[38;5;124mCARAT_NORM\u001b[39m\u001b[38;5;124m\"\u001b[39m])\n\u001b[0;32m      3\u001b[0m normalized_diamonds_df \u001b[38;5;241m=\u001b[39m snowml_mms\u001b[38;5;241m.\u001b[39mfit(diamonds_df)\u001b[38;5;241m.\u001b[39mtransform(diamonds_df)\n\u001b[0;32m      5\u001b[0m \u001b[38;5;66;03m# Reduce the number of decimals\u001b[39;00m\n",
      "\u001b[1;31mAttributeError\u001b[0m: module 'snowflake.ml.modeling.preprocessing' has no attribute 'MinMaxScaler'"
     ]
    }
   ],
   "source": [
    "# Normalize the CARAT column\n",
    "snowml_mms = snowml.\n",
    "\n",
    "snowml_mms = snowml.MinMaxScaler(input_cols=[\"CARAT\"], output_cols=[\"CARAT_NORM\"])\n",
    "normalized_diamonds_df = snowml_mms.fit(diamonds_df).transform(diamonds_df)\n",
    "\n",
    "# Reduce the number of decimals\n",
    "new_col = normalized_diamonds_df.col(\"CARAT_NORM\").cast(DecimalType(7, 6))\n",
    "normalized_diamonds_df = normalized_diamonds_df.with_column(\"CARAT_NORM\", new_col)\n",
    "\n",
    "normalized_diamonds_df"
   ]
  }
 ],
 "metadata": {
  "kernelspec": {
   "display_name": "venv",
   "language": "python",
   "name": "python3"
  },
  "language_info": {
   "codemirror_mode": {
    "name": "ipython",
    "version": 3
   },
   "file_extension": ".py",
   "mimetype": "text/x-python",
   "name": "python",
   "nbconvert_exporter": "python",
   "pygments_lexer": "ipython3",
   "version": "3.10.3"
  }
 },
 "nbformat": 4,
 "nbformat_minor": 2
}
