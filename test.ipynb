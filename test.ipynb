{
 "cells": [
  {
   "cell_type": "code",
   "execution_count": null,
   "metadata": {},
   "outputs": [],
   "source": [
    "from snowflake.snowpark import Session\n",
    "from snowflake.snowpark.functions import sproc,sum\n",
    "import json\n",
    "#import snowflake.snowpark\n",
    "\n",
    "def initiateSession():\n",
    "\n",
    "    with open('creds.json') as f:\n",
    "        connection_parameters = json.load(f)\n",
    "\n",
    "    session = Session.builder.configs(connection_parameters).create()\n",
    "    return session\n",
    "\n",
    "session = initiateSession()"
   ]
  },
  {
   "cell_type": "code",
   "execution_count": 5,
   "metadata": {},
   "outputs": [],
   "source": [
    "df_orders = session.table(\"SNOWFLAKE_SAMPLE_DATA.TPCH_SF10.ORDERS\")\n",
    "df_customers = session.table(\"SNOWFLAKE_SAMPLE_DATA.TPCH_SF10.CUSTOMER\")"
   ]
  },
  {
   "cell_type": "code",
   "execution_count": 6,
   "metadata": {},
   "outputs": [
    {
     "name": "stdout",
     "output_type": "stream",
     "text": [
      "-----------------------------------------------------------------------------------------------------------------------------------------------------------------------------------------------\n",
      "|\"O_ORDERKEY\"  |\"O_CUSTKEY\"  |\"O_ORDERSTATUS\"  |\"O_TOTALPRICE\"  |\"O_ORDERDATE\"  |\"O_ORDERPRIORITY\"  |\"O_CLERK\"        |\"O_SHIPPRIORITY\"  |\"O_COMMENT\"                                         |\n",
      "-----------------------------------------------------------------------------------------------------------------------------------------------------------------------------------------------\n",
      "|16200001      |103552       |F                |98686.85        |1993-09-08     |5-LOW              |Clerk#000002872  |0                 | furiously. furiously final ideas nag carefully...  |\n",
      "|16200002      |397082       |O                |304962.83       |1997-11-14     |3-MEDIUM           |Clerk#000007665  |0                 |lets. blithely brave asymptotes wake blithely u...  |\n",
      "|16200003      |253015       |P                |174625.37       |1995-04-24     |5-LOW              |Clerk#000003723  |0                 |. slyly unusual requests haggle among the reque...  |\n",
      "|16200004      |1408709      |F                |136536.56       |1994-01-09     |4-NOT SPECIFIED    |Clerk#000001084  |0                 |arefully ironic packages are.                       |\n",
      "|16200005      |169117       |O                |149939.91       |1997-03-07     |3-MEDIUM           |Clerk#000007152  |0                 |y even sauternes affix. quietly final attainmen...  |\n",
      "|16200006      |1325131      |O                |184475.48       |1997-07-17     |1-URGENT           |Clerk#000007555  |0                 |riously even tithes was furio                       |\n",
      "|16200007      |966856       |F                |287296.25       |1992-09-01     |1-URGENT           |Clerk#000004642  |0                 |t blithely upon the carefully unusual requests....  |\n",
      "|16200032      |427544       |F                |231477.63       |1992-01-07     |5-LOW              |Clerk#000009167  |0                 |ackages detect bold ideas. blithely even excuses    |\n",
      "|16200033      |721546       |O                |159769.65       |1995-12-19     |5-LOW              |Clerk#000007363  |0                 |s haggle furiously quickly unusual theodolites....  |\n",
      "|16200034      |1009144      |F                |51983.58        |1994-09-30     |5-LOW              |Clerk#000008129  |0                 |regular requests. fluffil                           |\n",
      "-----------------------------------------------------------------------------------------------------------------------------------------------------------------------------------------------\n",
      "\n"
     ]
    }
   ],
   "source": [
    "df_orders.show()"
   ]
  },
  {
   "cell_type": "markdown",
   "metadata": {},
   "source": [
    "### Join the tables on O_CUSTKEY and select few columns."
   ]
  },
  {
   "cell_type": "code",
   "execution_count": 7,
   "metadata": {},
   "outputs": [],
   "source": [
    "joined_df1 = df_orders.join(df_customers, df_orders[\"O_CUSTKEY\"] == df_customers[\"C_CUSTKEY\"]) \\\n",
    ".select(df_orders[\"O_ORDERKEY\"], df_orders[\"O_TOTALPRICE\"], df_customers[\"C_NAME\"], df_customers[\"C_ACCTBAL\"])"
   ]
  },
  {
   "cell_type": "code",
   "execution_count": 9,
   "metadata": {},
   "outputs": [],
   "source": [
    "from snowflake.snowpark.functions import col, sum, avg, count, max"
   ]
  },
  {
   "cell_type": "markdown",
   "metadata": {},
   "source": [
    "Apply .filter method to get the customers and orders where price > 5000 and the order status =\"F\""
   ]
  },
  {
   "cell_type": "code",
   "execution_count": 10,
   "metadata": {},
   "outputs": [],
   "source": [
    "df_filtered_orders = joined_df1.filter((col(\"O_TOTALPRICE\") > 50000) & (col(\"O_ORDERSTATUS\") == 'F'))"
   ]
  },
  {
   "cell_type": "markdown",
   "metadata": {},
   "source": [
    "Apply some aggregation functions to fetch the total orders, total spend, average order price and maximum order price for each customer."
   ]
  },
  {
   "cell_type": "code",
   "execution_count": 11,
   "metadata": {},
   "outputs": [],
   "source": [
    "df_customer_aggregates = df_filtered_orders.group_by(\"C_NAME\") \\\n",
    "    .agg(\n",
    "    count(col(\"O_ORDERKEY\")).alias(\"TOTAL_ORDERS\"),\n",
    "    sum(col(\"O_TOTALPRICE\")).alias(\"TOTAL_SPENT\"),\n",
    "    avg(col(\"O_TOTALPRICE\")).alias(\"AVG_ORDER_PRICE\"),\n",
    "    max(col(\"O_TOTALPRICE\")).alias(\"MAX_ORDER_PRICE\")\n",
    ")"
   ]
  },
  {
   "cell_type": "markdown",
   "metadata": {},
   "source": [
    "Write the final dataframe back to Snowflake."
   ]
  },
  {
   "cell_type": "code",
   "execution_count": 12,
   "metadata": {},
   "outputs": [],
   "source": [
    "df_customer_aggregates.write.mode(\"overwrite\").save_as_table(\"customer_order_summary\")"
   ]
  }
 ],
 "metadata": {
  "kernelspec": {
   "display_name": "venv",
   "language": "python",
   "name": "python3"
  },
  "language_info": {
   "codemirror_mode": {
    "name": "ipython",
    "version": 3
   },
   "file_extension": ".py",
   "mimetype": "text/x-python",
   "name": "python",
   "nbconvert_exporter": "python",
   "pygments_lexer": "ipython3",
   "version": "3.10.3"
  }
 },
 "nbformat": 4,
 "nbformat_minor": 2
}
