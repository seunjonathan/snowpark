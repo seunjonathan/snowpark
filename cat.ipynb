{
 "cells": [
  {
   "cell_type": "code",
   "execution_count": null,
   "metadata": {},
   "outputs": [],
   "source": [
    "from snowflake.snowpark import Session\n",
    "import snowflake.snowpark.functions as F\n",
    "\n",
    "#import snowflake.snowpark\n",
    "\n",
    "def initiateSession():\n",
    "    connection_parameters = {\n",
    "        \"account\": \"mszvisn-web31075\",\n",
    "        \"user\": \"jenkins_srv\",\n",
    "        \"password\": \"Jenkins123\",\n",
    "        \"role\": \"accountadmin\",\n",
    "        \"warehouse\": \"compute_wh\",\n",
    "        \"database\":\"snowpark_db\",\n",
    "        \"schema\":\"cat_bronze\"\n",
    "    }\n",
    "    session = Session.builder.configs(connection_parameters).create()\n",
    "    return session\n",
    "\n",
    "session = initiateSession()"
   ]
  },
  {
   "cell_type": "markdown",
   "metadata": {},
   "source": [
    "Transforming data from Bronze layer to Silver"
   ]
  },
  {
   "cell_type": "code",
   "execution_count": null,
   "metadata": {},
   "outputs": [],
   "source": [
    "df_parts_raw = session.table(\"SNOWPARK_DB.CAT_BRONZE.PARTS\")"
   ]
  },
  {
   "cell_type": "code",
   "execution_count": null,
   "metadata": {},
   "outputs": [],
   "source": [
    "df_parts_raw.columns"
   ]
  },
  {
   "cell_type": "code",
   "execution_count": null,
   "metadata": {},
   "outputs": [],
   "source": [
    "from snowflake.snowpark.types import IntegerType, FloatType"
   ]
  },
  {
   "cell_type": "code",
   "execution_count": null,
   "metadata": {},
   "outputs": [],
   "source": [
    "udf = F.udf"
   ]
  },
  {
   "cell_type": "code",
   "execution_count": null,
   "metadata": {},
   "outputs": [],
   "source": [
    "# Define and register the UDF using a decorator\n",
    "#@udf(name='apply_discount', return_type=FloatType(), input_types=[FloatType()])\n",
    "def apply_discount(cost: float) -> float:\n",
    "    return cost * 0.9  # Apply 10% discount\n",
    "\n",
    "#Register the UDF as a temporary function\n",
    "apply_discount_udf = session.udf.register(apply_discount, return_type=FloatType(), input_types=[FloatType()])"
   ]
  },
  {
   "cell_type": "markdown",
   "metadata": {},
   "source": [
    "Reformart the dates to proper date values. Then use UDF created to apply 10% discount on COST."
   ]
  },
  {
   "cell_type": "code",
   "execution_count": null,
   "metadata": {},
   "outputs": [],
   "source": [
    "df_parts_raw = df_parts_raw.withColumn(\"TRANSACTIONDATE\", F.to_date(df_parts_raw[\"TRANSACTIONDATE\"], 'DY MON DD, YYYY')) \\\n",
    ".withColumn(\"DELIVERYDATE\", F.to_date(df_parts_raw[\"DELIVERYDATE\"], 'DY MON DD, YYYY')) \\\n",
    ".withColumn(\"DISCOUNTED_COST\", apply_discount(df_parts_raw[\"COST\"]))"
   ]
  },
  {
   "cell_type": "code",
   "execution_count": null,
   "metadata": {},
   "outputs": [],
   "source": [
    "df_parts_raw.show()"
   ]
  },
  {
   "cell_type": "code",
   "execution_count": null,
   "metadata": {},
   "outputs": [],
   "source": [
    "df_parts_raw.write.mode(\"overwrite\").save_as_table(\"snowpark_db.cat_silver.parts\")"
   ]
  }
 ],
 "metadata": {
  "kernelspec": {
   "display_name": "venv",
   "language": "python",
   "name": "python3"
  },
  "language_info": {
   "codemirror_mode": {
    "name": "ipython",
    "version": 3
   },
   "file_extension": ".py",
   "mimetype": "text/x-python",
   "name": "python",
   "nbconvert_exporter": "python",
   "pygments_lexer": "ipython3",
   "version": "3.10.3"
  }
 },
 "nbformat": 4,
 "nbformat_minor": 2
}
